{
  "nbformat": 4,
  "nbformat_minor": 0,
  "metadata": {
    "colab": {
      "name": "猜數字.ipynb",
      "provenance": [],
      "authorship_tag": "ABX9TyPZukqfobMWF3fOY63MJlX0"
    },
    "kernelspec": {
      "name": "python3",
      "display_name": "Python 3"
    }
  },
  "cells": [
    {
      "cell_type": "code",
      "metadata": {
        "id": "N_oMdjlVqp-W",
        "colab_type": "code",
        "colab": {}
      },
      "source": [
        "import random\n",
        "import string"
      ],
      "execution_count": 0,
      "outputs": []
    },
    {
      "cell_type": "code",
      "metadata": {
        "id": "gm8mmgqFqwUy",
        "colab_type": "code",
        "colab": {}
      },
      "source": [
        "x = random.randint(0,100)\n",
        "xmin = 0\n",
        "xmax = 100"
      ],
      "execution_count": 0,
      "outputs": []
    },
    {
      "cell_type": "code",
      "metadata": {
        "id": "6vSw3cworRVv",
        "colab_type": "code",
        "colab": {
          "base_uri": "https://localhost:8080/",
          "height": 207
        },
        "outputId": "65fabe11-5c18-414a-8e94-f1a5c1f8d5bb"
      },
      "source": [
        "while True:\n",
        "    guess = input(\"隨便猜一個\"+str(xmin)+\"到\"+str(xmax)+\"之間的數字:\")\n",
        "    try:\n",
        "        guess=int(guess)\n",
        "    except Valuerror:\n",
        "        print(\"輸入數字\")\n",
        "        continue\n",
        "    if guess >= xmax or guess <= xmin:\n",
        "        print(\"繼續猜\"+str(xmin)+\"到\"+str(xmax)+\"之間的數字:\")\n",
        "        continue\n",
        "    if x == guess:  \n",
        "        print(\"恭喜答對!\")\n",
        "        x = random.randint(0,100)\n",
        "        xmin = 0\n",
        "        xmax = 100\n",
        "        break        \n",
        "    elif guess < x:\n",
        "        xmin = guess    \n",
        "    else:\n",
        "        guess > x\n",
        "        xmax = guess"
      ],
      "execution_count": 15,
      "outputs": [
        {
          "output_type": "stream",
          "text": [
            "隨便猜一個0到100之間的數字:91\n",
            "隨便猜一個0到91之間的數字:55\n",
            "隨便猜一個55到91之間的數字:64\n",
            "隨便猜一個64到91之間的數字:80\n",
            "隨便猜一個64到80之間的數字:77\n",
            "隨便猜一個64到77之間的數字:69\n",
            "隨便猜一個64到69之間的數字:65\n",
            "隨便猜一個65到69之間的數字:68\n",
            "隨便猜一個65到68之間的數字:67\n",
            "隨便猜一個65到67之間的數字:66\n",
            "恭喜答對!\n"
          ],
          "name": "stdout"
        }
      ]
    }
  ]
}