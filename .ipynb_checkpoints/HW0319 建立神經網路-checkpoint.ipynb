{
 "cells": [
  {
   "cell_type": "code",
   "execution_count": 1,
   "metadata": {},
   "outputs": [],
   "source": [
    "%matplotlib inline\n",
    "import numpy as np\n",
    "import matplotlib.pyplot as plt"
   ]
  },
  {
   "cell_type": "markdown",
   "metadata": {},
   "source": [
    "### 讀入tensorflow"
   ]
  },
  {
   "cell_type": "code",
   "execution_count": 2,
   "metadata": {},
   "outputs": [],
   "source": [
    "import tensorflow as tf"
   ]
  },
  {
   "cell_type": "markdown",
   "metadata": {},
   "source": [
    "## 讀入Fashion MNSIT 數據集"
   ]
  },
  {
   "cell_type": "code",
   "execution_count": 3,
   "metadata": {},
   "outputs": [],
   "source": [
    "from tensorflow.keras.datasets import fashion_mnist"
   ]
  },
  {
   "cell_type": "code",
   "execution_count": 5,
   "metadata": {},
   "outputs": [
    {
     "name": "stdout",
     "output_type": "stream",
     "text": [
      "Downloading data from https://storage.googleapis.com/tensorflow/tf-keras-datasets/train-labels-idx1-ubyte.gz\n",
      "32768/29515 [=================================] - 0s 0us/step\n",
      "Downloading data from https://storage.googleapis.com/tensorflow/tf-keras-datasets/train-images-idx3-ubyte.gz\n",
      "26427392/26421880 [==============================] - 2s 0us/step\n",
      "Downloading data from https://storage.googleapis.com/tensorflow/tf-keras-datasets/t10k-labels-idx1-ubyte.gz\n",
      "8192/5148 [===============================================] - 0s 0s/step\n",
      "Downloading data from https://storage.googleapis.com/tensorflow/tf-keras-datasets/t10k-images-idx3-ubyte.gz\n",
      "4423680/4422102 [==============================] - 0s 0us/step\n"
     ]
    }
   ],
   "source": [
    "(x_train,y_train),(x_test,y_test)=fashion_mnist.load_data()"
   ]
  },
  {
   "cell_type": "markdown",
   "metadata": {},
   "source": [
    "## 數據集內容"
   ]
  },
  {
   "cell_type": "code",
   "execution_count": 8,
   "metadata": {},
   "outputs": [
    {
     "data": {
      "text/plain": [
       "(60000, 10000)"
      ]
     },
     "execution_count": 8,
     "metadata": {},
     "output_type": "execute_result"
    }
   ],
   "source": [
    "len(x_train), len(x_test)"
   ]
  },
  {
   "cell_type": "code",
   "execution_count": 9,
   "metadata": {},
   "outputs": [],
   "source": [
    "class_names = ['T-shirt/top', 'Trouser', 'Pullover', 'Dress', 'Coat',\n",
    "               'Sandal', 'Shirt', 'Sneaker', 'Bag', 'Ankle boot']"
   ]
  },
  {
   "cell_type": "code",
   "execution_count": 10,
   "metadata": {},
   "outputs": [],
   "source": [
    "n = 246"
   ]
  },
  {
   "cell_type": "code",
   "execution_count": 11,
   "metadata": {},
   "outputs": [
    {
     "data": {
      "text/plain": [
       "array([[  0,   0,   0,   0,   0,   0,   0,   0,   0,   0,   0,   0,   0,\n",
       "          0,   0,   0,   0,   0,   0,   0,   0,   0,   0,   0,   0,   0,\n",
       "          0,   0],\n",
       "       [  0,   0,   0,   0,   0,   0,   0,   0,   0,   0,   0,   0,   0,\n",
       "          0,   0,   0,   0,   0,   0,   0,   0,   0,   0,   0,   0,   0,\n",
       "          0,   0],\n",
       "       [  0,   0,   0,   0,   0,   0,   0,   0,   0,   0,   0,   0,   0,\n",
       "          0,   0,   0,   0,   0,   0,   0,   0,   0,   0,  69,   0,   0,\n",
       "          0,   0],\n",
       "       [  0,   0,   0,   0,   0,   0,   0,   0,   0,   1,   1,   1,   0,\n",
       "          3,   7,   8,   3,   5,  10,   2,   0,   0, 154, 184,  19,   0,\n",
       "          4,   0],\n",
       "       [  0,   0,   0,   0,   0,   0,   0,   0,   0,   0,   1,   2,   1,\n",
       "          0,   0,   0,   0,   0,   0,   0,  14, 175, 181,  31,   0,   0,\n",
       "          0,   0],\n",
       "       [  0,   0,   0,   0,   0,   0,   0,   0,   0,   4,   1,   1,   0,\n",
       "         67,  85,  91,  34, 129, 107,   7, 203, 233,  66,   0,   4,   0,\n",
       "          0,   0],\n",
       "       [  0,   0,   0,   0,   0,   0,   0,   0,   0,   2,   0,   3,   0,\n",
       "        105, 144, 151, 137, 189, 145, 197, 238, 188,  48,   0,   3,   3,\n",
       "          0,   0],\n",
       "       [  0,   0,   0,   0,   0,   0,   0,   0,   0,   1,   1,   1,   0,\n",
       "          0,   0,   0,   0,   0, 102, 239, 122,   0,   0,   0,   0,   0,\n",
       "          0,   0],\n",
       "       [  0,   0,   0,   0,   0,   0,   0,   0,   0,   1,   2,   1,   0,\n",
       "          0,   0,   0,   0,   0, 159, 239,  20,   0,   0,   0,   5, 110,\n",
       "        244,  62],\n",
       "       [  0,   0,   0,   0,   0,   0,   0,   0,   0,   0,   0,   0,   2,\n",
       "          0,   0,   2,   0,   0, 193, 213,   0,   0,  74, 180, 223, 239,\n",
       "        234,  71],\n",
       "       [  0,   0,   0,   0,   0,   0,   0,   1,   2,   1,   0,   1,   2,\n",
       "          0,   0,   5,   0,  29, 215, 180,  46, 216, 255, 244, 230, 209,\n",
       "        209,  59],\n",
       "       [  0,   0,   0,   0,   0,   0,   1,   0,   0,   0,   1,   1,   0,\n",
       "          0,   1,   1,   0,  38, 220, 212, 243, 244, 221, 222, 216, 202,\n",
       "        223,  59],\n",
       "       [  1,   0,   0,   2,   4,   1,   0,   1,  40,   0,   0,   1,   1,\n",
       "          3,   6,   0,   0,  75, 226, 218, 213, 210, 203, 202, 191, 184,\n",
       "        221,  67],\n",
       "       [  2,   1,   2,   0,   0,   0,  37, 150, 161, 109,  40,   0,   0,\n",
       "          2,   0,   0,  59, 240, 223, 232, 210, 201, 200, 201, 203, 203,\n",
       "        225,  75],\n",
       "       [  2,   3,   5,   0,   1,  85, 168, 162, 187, 198, 145,  68,   0,\n",
       "          0,   0,  75, 239, 206, 196, 214, 201, 178, 197, 196, 201, 184,\n",
       "        222,  56],\n",
       "       [  0,   0,   0,   0, 146, 190, 169, 205, 216, 217, 208, 140,  87,\n",
       "          0,  65, 253, 207, 189, 189, 188, 192, 218, 189, 201, 205, 191,\n",
       "        222,  56],\n",
       "       [  0,  40,  20,   8, 168, 202, 207, 231, 191, 202, 223, 232, 196,\n",
       "         97, 244, 222, 210, 205, 212, 212, 201, 184, 180, 187, 188, 190,\n",
       "        227,  37],\n",
       "       [ 50, 213, 188, 147, 177, 214, 193, 211, 204, 202, 223, 233, 243,\n",
       "        245, 209, 193, 216, 193, 201, 188, 197, 183, 199, 212, 195, 189,\n",
       "        226,  22],\n",
       "       [ 50, 200, 210, 223, 236, 232, 216, 213, 207, 219, 232, 246, 242,\n",
       "        199, 199, 210, 203, 206, 197, 199, 206, 198, 195, 202, 212, 199,\n",
       "        223,  20],\n",
       "       [ 60, 213, 173, 173, 205, 229, 238, 224, 224, 227, 218, 221, 193,\n",
       "        214, 225, 213, 210, 210, 195, 205, 199, 196, 209, 191, 193, 203,\n",
       "        224,  13],\n",
       "       [ 66, 220, 187, 211, 189, 199, 201, 186, 201, 189, 195, 195, 202,\n",
       "        200, 205, 216, 190, 192, 199, 195, 191, 202, 209, 194, 198, 199,\n",
       "        222,  18],\n",
       "       [ 73, 216, 178, 223, 204, 209, 205, 219, 194, 189, 208, 194, 217,\n",
       "        207, 208, 192, 201, 201, 198, 204, 193, 194, 196, 193, 189, 195,\n",
       "        225,  31],\n",
       "       [ 73, 214, 183, 199, 194, 208, 202, 200, 192, 222, 205, 190, 224,\n",
       "        210, 203, 211, 202, 183, 187, 218, 218, 186, 204, 214, 195, 197,\n",
       "        220,  16],\n",
       "       [ 82, 203, 180, 195, 184, 192, 204, 210, 188, 210, 213, 211, 213,\n",
       "        209, 206, 209, 209, 209, 197, 199, 214, 197, 205, 213, 214, 212,\n",
       "        186,   5],\n",
       "       [ 10, 189, 205, 209, 199, 199, 200, 199, 193, 191, 195, 205, 202,\n",
       "        204, 229, 242, 213, 232, 242, 210, 211, 202, 198, 208, 219, 219,\n",
       "        194,   0],\n",
       "       [  0,   0,  41, 120, 183, 221, 233, 230, 232, 224, 227, 235, 241,\n",
       "        212, 103,  14,   0,   0,  18, 106, 205, 235, 228, 236, 199, 196,\n",
       "        162,   0],\n",
       "       [  2,   0,   0,   0,   0,   0,  25,  52,  78,  90,  82,  50,  16,\n",
       "          0,   0,   0,   0,   0,   0,   0,   0,   8,   9,   5,   0,   0,\n",
       "          0,   0],\n",
       "       [  0,   0,   0,   0,   0,   0,   0,   0,   0,   0,   0,   0,   0,\n",
       "          0,   0,   0,   0,   0,   0,   0,   0,   0,   0,   0,   0,   0,\n",
       "          0,   0]], dtype=uint8)"
      ]
     },
     "execution_count": 11,
     "metadata": {},
     "output_type": "execute_result"
    }
   ],
   "source": [
    "x_train[n]"
   ]
  },
  {
   "cell_type": "code",
   "execution_count": 16,
   "metadata": {},
   "outputs": [
    {
     "data": {
      "text/plain": [
       "5"
      ]
     },
     "execution_count": 16,
     "metadata": {},
     "output_type": "execute_result"
    }
   ],
   "source": [
    "y_train[n]"
   ]
  },
  {
   "cell_type": "code",
   "execution_count": 17,
   "metadata": {},
   "outputs": [
    {
     "name": "stdout",
     "output_type": "stream",
     "text": [
      "這件物品是: Sandal\n"
     ]
    },
    {
     "data": {
      "image/png": "[encoded data removed]",
      "text/plain": [
       "<Figure size 432x288 with 1 Axes>"
      ]
     },
     "metadata": {
      "needs_background": "light"
     },
     "output_type": "display_data"
    }
   ],
   "source": [
    "plt.imshow(x_train[n], cmap = 'Greens')\n",
    "print('這件物品是:',class_names[y_train[n]])"
   ]
  },
  {
   "cell_type": "code",
   "execution_count": 18,
   "metadata": {},
   "outputs": [],
   "source": [
    "x_train = x_train.reshape(60000,784)/255\n",
    "x_test = x_test.reshape(10000,784)/255"
   ]
  },
  {
   "cell_type": "code",
   "execution_count": 20,
   "metadata": {},
   "outputs": [],
   "source": [
    "from tensorflow.keras.utils import to_categorical"
   ]
  },
  {
   "cell_type": "code",
   "execution_count": 21,
   "metadata": {},
   "outputs": [],
   "source": [
    "y_train = to_categorical(y_train, 10) #10種分類"
   ]
  },
  {
   "cell_type": "code",
   "execution_count": 22,
   "metadata": {},
   "outputs": [],
   "source": [
    "y_test = to_categorical(y_test, 10)"
   ]
  },
  {
   "cell_type": "code",
   "execution_count": 23,
   "metadata": {},
   "outputs": [
    {
     "data": {
      "text/plain": [
       "array([0., 0., 0., 0., 0., 1., 0., 0., 0., 0.], dtype=float32)"
      ]
     },
     "execution_count": 23,
     "metadata": {},
     "output_type": "execute_result"
    }
   ],
   "source": [
    "y_train[n]"
   ]
  },
  {
   "cell_type": "markdown",
   "metadata": {},
   "source": [
    "## 建立神經網路"
   ]
  },
  {
   "cell_type": "code",
   "execution_count": 24,
   "metadata": {},
   "outputs": [],
   "source": [
    "from tensorflow.keras.models import Sequential\n",
    "from tensorflow.keras.layers import Dense\n",
    "from tensorflow.keras.optimizers import SGD"
   ]
  },
  {
   "cell_type": "code",
   "execution_count": 27,
   "metadata": {},
   "outputs": [],
   "source": [
    "model = Sequential() #打造一部學習機,建3層"
   ]
  },
  {
   "cell_type": "code",
   "execution_count": 28,
   "metadata": {},
   "outputs": [],
   "source": [
    "model.add(Dense(35, input_dim = 784, activation = \"relu\"))  \n",
    "\n",
    "model.add(Dense(35, activation = \"relu\"))\n",
    "\n",
    "model.add(Dense(10, activation = \"softmax\"))#把數字變為0-1狀態並加起來為1"
   ]
  },
  {
   "cell_type": "markdown",
   "metadata": {},
   "source": [
    "## 組裝"
   ]
  },
  {
   "cell_type": "code",
   "execution_count": 29,
   "metadata": {},
   "outputs": [],
   "source": [
    "model.compile(loss = 'mse', optimizer = SGD(lr = 0.085), metrics = ['accuracy'])"
   ]
  },
  {
   "cell_type": "code",
   "execution_count": 30,
   "metadata": {},
   "outputs": [
    {
     "name": "stdout",
     "output_type": "stream",
     "text": [
      "Model: \"sequential_1\"\n",
      "_________________________________________________________________\n",
      "Layer (type)                 Output Shape              Param #   \n",
      "=================================================================\n",
      "dense_3 (Dense)              (None, 35)                27475     \n",
      "_________________________________________________________________\n",
      "dense_4 (Dense)              (None, 35)                1260      \n",
      "_________________________________________________________________\n",
      "dense_5 (Dense)              (None, 10)                360       \n",
      "=================================================================\n",
      "Total params: 29,095\n",
      "Trainable params: 29,095\n",
      "Non-trainable params: 0\n",
      "_________________________________________________________________\n"
     ]
    }
   ],
   "source": [
    "model.summary()"
   ]
  },
  {
   "cell_type": "markdown",
   "metadata": {},
   "source": [
    "## 開始訓練"
   ]
  },
  {
   "cell_type": "code",
   "execution_count": 48,
   "metadata": {},
   "outputs": [
    {
     "name": "stdout",
     "output_type": "stream",
     "text": [
      "Train on 60000 samples\n",
      "Epoch 1/40\n",
      "60000/60000 [==============================] - 2s 40us/sample - loss: 0.0195 - accuracy: 0.8689\n",
      "Epoch 2/40\n",
      "60000/60000 [==============================] - 2s 38us/sample - loss: 0.0193 - accuracy: 0.8697\n",
      "Epoch 3/40\n",
      "60000/60000 [==============================] - 2s 39us/sample - loss: 0.0189 - accuracy: 0.8731\n",
      "Epoch 4/40\n",
      "60000/60000 [==============================] - 2s 38us/sample - loss: 0.0188 - accuracy: 0.8740\n",
      "Epoch 5/40\n",
      "60000/60000 [==============================] - 2s 38us/sample - loss: 0.0185 - accuracy: 0.8755\n",
      "Epoch 6/40\n",
      "60000/60000 [==============================] - 2s 39us/sample - loss: 0.0183 - accuracy: 0.8779\n",
      "Epoch 7/40\n",
      "60000/60000 [==============================] - 2s 42us/sample - loss: 0.0181 - accuracy: 0.8786\n",
      "Epoch 8/40\n",
      "60000/60000 [==============================] - 3s 44us/sample - loss: 0.0179 - accuracy: 0.8796\n",
      "Epoch 9/40\n",
      "60000/60000 [==============================] - 2s 39us/sample - loss: 0.0177 - accuracy: 0.8822\n",
      "Epoch 10/40\n",
      "60000/60000 [==============================] - 2s 39us/sample - loss: 0.0176 - accuracy: 0.8821\n",
      "Epoch 11/40\n",
      "60000/60000 [==============================] - 2s 40us/sample - loss: 0.0173 - accuracy: 0.8855\n",
      "Epoch 12/40\n",
      "60000/60000 [==============================] - 2s 39us/sample - loss: 0.0172 - accuracy: 0.8856\n",
      "Epoch 13/40\n",
      "60000/60000 [==============================] - 2s 39us/sample - loss: 0.0170 - accuracy: 0.8870\n",
      "Epoch 14/40\n",
      "60000/60000 [==============================] - 2s 38us/sample - loss: 0.0169 - accuracy: 0.8879\n",
      "Epoch 15/40\n",
      "60000/60000 [==============================] - 2s 38us/sample - loss: 0.0167 - accuracy: 0.8886\n",
      "Epoch 16/40\n",
      "60000/60000 [==============================] - 2s 39us/sample - loss: 0.0166 - accuracy: 0.8899\n",
      "Epoch 17/40\n",
      "60000/60000 [==============================] - 2s 38us/sample - loss: 0.0164 - accuracy: 0.8900\n",
      "Epoch 18/40\n",
      "60000/60000 [==============================] - 2s 39us/sample - loss: 0.0163 - accuracy: 0.8919\n",
      "Epoch 19/40\n",
      "60000/60000 [==============================] - 2s 38us/sample - loss: 0.0162 - accuracy: 0.8924\n",
      "Epoch 20/40\n",
      "60000/60000 [==============================] - 2s 39us/sample - loss: 0.0161 - accuracy: 0.8933\n",
      "Epoch 21/40\n",
      "60000/60000 [==============================] - 2s 41us/sample - loss: 0.0159 - accuracy: 0.8942\n",
      "Epoch 22/40\n",
      "60000/60000 [==============================] - 2s 39us/sample - loss: 0.0158 - accuracy: 0.8950\n",
      "Epoch 23/40\n",
      "60000/60000 [==============================] - 2s 40us/sample - loss: 0.0157 - accuracy: 0.8954\n",
      "Epoch 24/40\n",
      "60000/60000 [==============================] - 2s 39us/sample - loss: 0.0156 - accuracy: 0.8967\n",
      "Epoch 25/40\n",
      "60000/60000 [==============================] - 2s 40us/sample - loss: 0.0155 - accuracy: 0.8977\n",
      "Epoch 26/40\n",
      "60000/60000 [==============================] - 2s 40us/sample - loss: 0.0154 - accuracy: 0.8976\n",
      "Epoch 27/40\n",
      "60000/60000 [==============================] - 2s 41us/sample - loss: 0.0153 - accuracy: 0.8988\n",
      "Epoch 28/40\n",
      "60000/60000 [==============================] - 2s 41us/sample - loss: 0.0152 - accuracy: 0.8995\n",
      "Epoch 29/40\n",
      "60000/60000 [==============================] - 2s 40us/sample - loss: 0.0151 - accuracy: 0.9004\n",
      "Epoch 30/40\n",
      "60000/60000 [==============================] - 2s 40us/sample - loss: 0.0149 - accuracy: 0.9014\n",
      "Epoch 31/40\n",
      "60000/60000 [==============================] - 2s 39us/sample - loss: 0.0149 - accuracy: 0.9012\n",
      "Epoch 32/40\n",
      "60000/60000 [==============================] - 2s 39us/sample - loss: 0.0148 - accuracy: 0.9030\n",
      "Epoch 33/40\n",
      "60000/60000 [==============================] - 2s 41us/sample - loss: 0.0148 - accuracy: 0.9030\n",
      "Epoch 34/40\n",
      "60000/60000 [==============================] - 2s 41us/sample - loss: 0.0146 - accuracy: 0.9039\n",
      "Epoch 35/40\n",
      "60000/60000 [==============================] - 2s 41us/sample - loss: 0.0145 - accuracy: 0.9051\n",
      "Epoch 36/40\n",
      "60000/60000 [==============================] - 2s 39us/sample - loss: 0.0145 - accuracy: 0.9049\n",
      "Epoch 37/40\n",
      "60000/60000 [==============================] - 2s 40us/sample - loss: 0.0144 - accuracy: 0.9050\n",
      "Epoch 38/40\n",
      "60000/60000 [==============================] - 2s 40us/sample - loss: 0.0143 - accuracy: 0.9058\n",
      "Epoch 39/40\n",
      "60000/60000 [==============================] - 3s 42us/sample - loss: 0.0142 - accuracy: 0.9072\n",
      "Epoch 40/40\n",
      "60000/60000 [==============================] - 2s 39us/sample - loss: 0.0142 - accuracy: 0.9071\n"
     ]
    },
    {
     "data": {
      "text/plain": [
       "<tensorflow.python.keras.callbacks.History at 0x20ef70717c8>"
      ]
     },
     "execution_count": 48,
     "metadata": {},
     "output_type": "execute_result"
    }
   ],
   "source": [
    "model.fit(x_train, y_train, batch_size=20, epochs = 40)  #累加會有細微誤差 batch=多少筆後調參數, epochs=訓練幾次"
   ]
  },
  {
   "cell_type": "markdown",
   "metadata": {},
   "source": [
    "## 訓練成果"
   ]
  },
  {
   "cell_type": "code",
   "execution_count": 36,
   "metadata": {},
   "outputs": [],
   "source": [
    "result = model.predict_classes(x_test)#測試資料"
   ]
  },
  {
   "cell_type": "code",
   "execution_count": 37,
   "metadata": {},
   "outputs": [
    {
     "name": "stdout",
     "output_type": "stream",
     "text": [
      "神經網路預測值是: Shirt\n"
     ]
    },
    {
     "data": {
      "text/plain": [
       "<matplotlib.image.AxesImage at 0x20ef1c2f688>"
      ]
     },
     "execution_count": 37,
     "metadata": {},
     "output_type": "execute_result"
    },
    {
     "data": {
      "image/png": "[encoded data removed]",
      "text/plain": [
       "<Figure size 432x288 with 1 Axes>"
      ]
     },
     "metadata": {
      "needs_background": "light"
     },
     "output_type": "display_data"
    }
   ],
   "source": [
    "n = 246\n",
    "\n",
    "print('神經網路預測值是:', class_names[result[n]])\n",
    "plt.imshow(x_test[n].reshape(28,28), cmap = 'Greens')"
   ]
  },
  {
   "cell_type": "code",
   "execution_count": 47,
   "metadata": {},
   "outputs": [
    {
     "data": {
      "image/png": "[encoded data removed]",
      "text/plain": [
       "<Figure size 432x288 with 7 Axes>"
      ]
     },
     "metadata": {
      "needs_background": "light"
     },
     "output_type": "display_data"
    }
   ],
   "source": [
    "for i in range(7):\n",
    "    plt.subplot(1,7,i+1)\n",
    "    plt.imshow(x_test[i].reshape(28,28), cmap='Purples')\n",
    "    plt.title(class_names[result[i]])\n",
    "    plt.axis(\"off\")"
   ]
  },
  {
   "cell_type": "markdown",
   "metadata": {},
   "source": [
    "## 修改部分\n",
    "* learning rate 改為0.85\n",
    "* 訓練次數增加為40\n",
    "* batch 改為20"
   ]
  }
 ],
 "metadata": {
  "kernelspec": {
   "display_name": "Python 3",
   "language": "python",
   "name": "python3"
  },
  "language_info": {
   "codemirror_mode": {
    "name": "ipython",
    "version": 3
   },
   "file_extension": ".py",
   "mimetype": "text/x-python",
   "name": "python",
   "nbconvert_exporter": "python",
   "pygments_lexer": "ipython3",
   "version": "3.7.4"
  }
 },
 "nbformat": 4,
 "nbformat_minor": 2
}
